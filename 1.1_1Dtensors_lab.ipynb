{
 "cells": [
  {
   "cell_type": "code",
   "execution_count": 2,
   "id": "dd4f3d35-b716-436b-b3f0-fcf9856725c4",
   "metadata": {
    "tags": []
   },
   "outputs": [],
   "source": [
    "import torch\n",
    "import numpy as np\n",
    "import pandas as pd\n",
    "import matplotlib.pyplot as plt\n",
    "%matplotlib inline"
   ]
  },
  {
   "cell_type": "code",
   "execution_count": 3,
   "id": "b58036a1-bccd-4743-b8ec-f55df81e950c",
   "metadata": {
    "tags": []
   },
   "outputs": [
    {
     "data": {
      "text/plain": [
       "'2.1.0'"
      ]
     },
     "execution_count": 3,
     "metadata": {},
     "output_type": "execute_result"
    }
   ],
   "source": [
    "torch.__version__"
   ]
  },
  {
   "cell_type": "markdown",
   "id": "8c48abdc-f82c-4164-821a-ea21b8334cda",
   "metadata": {},
   "source": [
    "Function to plot the vectors"
   ]
  },
  {
   "cell_type": "code",
   "execution_count": 4,
   "id": "e21efd8b-eb2c-48c1-870d-4c2dbe8a1851",
   "metadata": {
    "tags": []
   },
   "outputs": [],
   "source": [
    "#Plot vectors\n",
    "def plotVec(vectors):\n",
    "    ax = plt.axes()\n",
    "    \n",
    "    #For loop to draw the vectors\n",
    "    for vec in vectors:\n",
    "        ax.arrow(0,0 *vec[\"vector\"], head_width = 0.05, color = vec[\"color\"], head_length = 0.1)\n",
    "        plt.text(*(vec[vector] + 0.1), vec[\"name\"])\n",
    "        \n",
    "    plt.ylim(-2,2)\n",
    "    plt.xlim(-2,2)"
   ]
  },
  {
   "cell_type": "markdown",
   "id": "44c4636f-0203-49ee-83d7-9511ce08fee2",
   "metadata": {},
   "source": [
    "**Types and Shapes**"
   ]
  },
  {
   "cell_type": "code",
   "execution_count": 5,
   "id": "36573621-26cf-4bac-8c40-c74fc139ea9b",
   "metadata": {
    "tags": []
   },
   "outputs": [
    {
     "name": "stdout",
     "output_type": "stream",
     "text": [
      "dtype after conversion is:  torch.int64\n",
      "Type after conversion is:  torch.LongTensor\n"
     ]
    }
   ],
   "source": [
    "#Convert integer list to tensor\n",
    "ints_to_tensor = torch.tensor([0,1,2,3,4])\n",
    "print(\"dtype after conversion is: \", ints_to_tensor.dtype)\n",
    "print(\"Type after conversion is: \", ints_to_tensor.type())"
   ]
  },
  {
   "cell_type": "code",
   "execution_count": 6,
   "id": "4567660b-e696-4862-bc63-f6b1f8dec57e",
   "metadata": {
    "tags": []
   },
   "outputs": [
    {
     "data": {
      "text/plain": [
       "torch.Tensor"
      ]
     },
     "execution_count": 6,
     "metadata": {},
     "output_type": "execute_result"
    }
   ],
   "source": [
    "type(ints_to_tensor)"
   ]
  },
  {
   "cell_type": "code",
   "execution_count": 7,
   "id": "b8aad036-54b8-4a69-99b0-7c3829f35e22",
   "metadata": {
    "tags": []
   },
   "outputs": [
    {
     "name": "stdout",
     "output_type": "stream",
     "text": [
      "dtype after conversion is:  torch.float32\n",
      "Type after conversion is:  torch.FloatTensor\n"
     ]
    }
   ],
   "source": [
    "#Convert float list to tensor\n",
    "floats_to_tensor = torch.tensor([0.0,1.0,2.0,3.0,4.0])\n",
    "print(\"dtype after conversion is: \", floats_to_tensor.dtype)\n",
    "print(\"Type after conversion is: \", floats_to_tensor.type())"
   ]
  },
  {
   "cell_type": "code",
   "execution_count": 8,
   "id": "1de61f7b-6da9-46e0-8f86-d24e6ffe349c",
   "metadata": {
    "tags": []
   },
   "outputs": [
    {
     "data": {
      "text/plain": [
       "torch.Tensor"
      ]
     },
     "execution_count": 8,
     "metadata": {},
     "output_type": "execute_result"
    }
   ],
   "source": [
    "type(floats_to_tensor)"
   ]
  },
  {
   "cell_type": "code",
   "execution_count": 9,
   "id": "882e66fd-c581-4692-a873-758440bc5a87",
   "metadata": {
    "tags": []
   },
   "outputs": [
    {
     "name": "stdout",
     "output_type": "stream",
     "text": [
      "The type of the new_float_tensor: torch.FloatTensor\n"
     ]
    }
   ],
   "source": [
    "#Convert an integer list with length 5 to float tensor\n",
    "new_float_tensor = torch.FloatTensor([0,1,2,3,4])\n",
    "new_float_tensor.type()\n",
    "print(\"The type of the new_float_tensor:\", new_float_tensor.type())"
   ]
  },
  {
   "cell_type": "code",
   "execution_count": 10,
   "id": "4073d014-577b-408d-9bf9-6c22c6f61973",
   "metadata": {
    "tags": []
   },
   "outputs": [],
   "source": [
    "new_float_tensor = torch.FloatTensor([0,1,2,3,4])"
   ]
  },
  {
   "cell_type": "code",
   "execution_count": 13,
   "id": "a0d90226-0f3c-47f7-b20f-83c406ccc106",
   "metadata": {
    "tags": []
   },
   "outputs": [
    {
     "name": "stdout",
     "output_type": "stream",
     "text": [
      "The type of the new_float_tensor: torch.FloatTensor\n"
     ]
    }
   ],
   "source": [
    "#Another method to convert the integer list to float tensor\n",
    "old_int_tensor = torch.tensor([0,1,2,3,4])\n",
    "new_float_tensor = old_int_tensor.type(torch.FloatTensor)\n",
    "print(\"The type of the new_float_tensor:\", new_float_tensor.type())"
   ]
  },
  {
   "cell_type": "markdown",
   "id": "173b515b-e97c-4872-97f3-b506fe21968d",
   "metadata": {},
   "source": [
    "<code>tensor_obj.size()</code> finds the size of the tensor_obj. <code>tensor_obj.ndimension()</code> shows the dimension of the tensor object."
   ]
  },
  {
   "cell_type": "code",
   "execution_count": 14,
   "id": "ed96accb-da61-424e-b737-d6b33c9d87d8",
   "metadata": {
    "tags": []
   },
   "outputs": [
    {
     "name": "stdout",
     "output_type": "stream",
     "text": [
      "Size of the new_float_tensor:  torch.Size([5])\n",
      "The dimension of the new_float_tensor:  1\n"
     ]
    }
   ],
   "source": [
    "print(\"Size of the new_float_tensor: \", new_float_tensor.size())\n",
    "print(\"The dimension of the new_float_tensor: \", new_float_tensor.ndimension())"
   ]
  },
  {
   "cell_type": "markdown",
   "id": "d7cee96a-31db-4d2f-988b-d18b8a9740f0",
   "metadata": {},
   "source": [
    "<code>tensor_obj.view,</code>(row, column) is used for reshaping a tensor object\n",
    "- When you execute <code>new_float_tensor.view(5,1)</code> the size will be <code>torch.Size([5,1])</code>\n",
    "- Meaning the tensor object has been reshaped from a one-dimensional tensor with 5 elements to a two-dimensional tensor object with 5 rows and 1 column"
   ]
  },
  {
   "cell_type": "code",
   "execution_count": 15,
   "id": "98a05ea7-c62a-43ff-b656-314a77223a2f",
   "metadata": {
    "tags": []
   },
   "outputs": [
    {
     "name": "stdout",
     "output_type": "stream",
     "text": [
      "Original Size:  tensor([0., 1., 2., 3., 4.])\n",
      "Size after view method tensor([[0.],\n",
      "        [1.],\n",
      "        [2.],\n",
      "        [3.],\n",
      "        [4.]])\n"
     ]
    }
   ],
   "source": [
    "twoD_float_tensor = new_float_tensor.view(5,1)\n",
    "print(\"Original Size: \", new_float_tensor)\n",
    "print(\"Size after view method\", twoD_float_tensor)"
   ]
  },
  {
   "cell_type": "markdown",
   "id": "7435fffe-28a9-4f1b-b441-981516ccda81",
   "metadata": {},
   "source": [
    "Note: The number of elements in a tensor must remain constant after applying view"
   ]
  },
  {
   "cell_type": "markdown",
   "id": "5fc87753-fa1f-4856-bf08-09458d3638db",
   "metadata": {},
   "source": [
    "Tensors with a dynamic size can be reshaped using -1"
   ]
  },
  {
   "cell_type": "code",
   "execution_count": 16,
   "id": "991f28d0-afd5-45ed-a0db-6b89136f9c5f",
   "metadata": {
    "tags": []
   },
   "outputs": [
    {
     "name": "stdout",
     "output_type": "stream",
     "text": [
      "Original Size:  tensor([0., 1., 2., 3., 4.])\n",
      "Size after view method tensor([[0.],\n",
      "        [1.],\n",
      "        [2.],\n",
      "        [3.],\n",
      "        [4.]])\n"
     ]
    }
   ],
   "source": [
    "#Introduce the use of -1 in tensor_obj.view(row,column) method\n",
    "twoD_float_tensor = new_float_tensor.view(-1,1)\n",
    "print(\"Original Size: \", new_float_tensor)\n",
    "print(\"Size after view method\", twoD_float_tensor)"
   ]
  },
  {
   "cell_type": "markdown",
   "id": "729d9c3b-b1b6-48c6-b696-d05916b64f5e",
   "metadata": {},
   "source": [
    "-1 can represent any size. But, it can only be set for one of the values"
   ]
  },
  {
   "cell_type": "code",
   "execution_count": 17,
   "id": "bc4d8fda-fc40-455d-a2d6-4e3d8ba82d30",
   "metadata": {
    "tags": []
   },
   "outputs": [
    {
     "name": "stdout",
     "output_type": "stream",
     "text": [
      "Dtype of new tensor:  torch.float64\n",
      "The type of new tensor:  torch.DoubleTensor\n"
     ]
    }
   ],
   "source": [
    "#Convert a numpy array to a tensor\n",
    "numpy_array = np.array([0.0,1.0,2.0,3.0,4.0])\n",
    "new_tensor = torch.from_numpy(numpy_array)\n",
    "\n",
    "print(\"Dtype of new tensor: \", new_tensor.dtype)\n",
    "print(\"The type of new tensor: \", new_tensor.type())"
   ]
  },
  {
   "cell_type": "code",
   "execution_count": 19,
   "id": "9071d80c-8e87-4bc2-8071-35ab4099b122",
   "metadata": {
    "tags": []
   },
   "outputs": [
    {
     "name": "stdout",
     "output_type": "stream",
     "text": [
      "Numpy array from tensor:  [0. 1. 2. 3. 4.]\n",
      "Dtype of numpy arary:  float64\n"
     ]
    }
   ],
   "source": [
    "#Convert a tensor to a numpy array\n",
    "back_to_numpy = new_tensor.numpy()\n",
    "\n",
    "print(\"Numpy array from tensor: \", back_to_numpy)\n",
    "print(\"Dtype of numpy arary: \", back_to_numpy.dtype)"
   ]
  },
  {
   "cell_type": "code",
   "execution_count": 20,
   "id": "4b84045d-8a3f-4d40-8f5f-a3f69c74f7d4",
   "metadata": {
    "tags": []
   },
   "outputs": [
    {
     "name": "stdout",
     "output_type": "stream",
     "text": [
      "The new tensor points to numpy_array:  tensor([0., 0., 0., 0., 0.], dtype=torch.float64)\n",
      "and back to numpy array points to the tensor:  [0. 0. 0. 0. 0.]\n"
     ]
    }
   ],
   "source": [
    "#Set all elements in numpy array to zero\n",
    "numpy_array[:] = 0\n",
    "print(\"The new tensor points to numpy_array: \", new_tensor)\n",
    "print(\"and back to numpy array points to the tensor: \", back_to_numpy)"
   ]
  },
  {
   "cell_type": "code",
   "execution_count": 21,
   "id": "0415f780-2fbe-4cc5-b3a8-aa866b4d181d",
   "metadata": {
    "tags": []
   },
   "outputs": [
    {
     "name": "stdout",
     "output_type": "stream",
     "text": [
      "The new tensor from numoy array:  tensor([ 0.1000,  2.0000,  0.3000, 10.1000], dtype=torch.float64)\n",
      "The dtype of new tensor:  torch.float64\n",
      "The type of new tensor:  torch.DoubleTensor\n"
     ]
    }
   ],
   "source": [
    "#Convert a panda series to a tensor\n",
    "\n",
    "pandas_series=pd.Series([0.1,2,0.3,10.1])\n",
    "new_tensor=torch.from_numpy(pandas_series.values)\n",
    "print(\"The new tensor from numoy array: \", new_tensor)\n",
    "print(\"The dtype of new tensor: \", new_tensor.dtype)\n",
    "print(\"The type of new tensor: \", new_tensor.type())"
   ]
  },
  {
   "cell_type": "markdown",
   "id": "46a5406b-53de-43fe-b2b7-97860734cf47",
   "metadata": {},
   "source": [
    "Consider The Following Tensor"
   ]
  },
  {
   "cell_type": "code",
   "execution_count": 22,
   "id": "bdef19e9-4e65-4eee-9b20-1eaa7b0562c8",
   "metadata": {
    "tags": []
   },
   "outputs": [],
   "source": [
    "this_tensor = torch.tensor([0,1,2,3])"
   ]
  },
  {
   "cell_type": "markdown",
   "id": "20081ae2-9791-4818-b1ae-266435935ca0",
   "metadata": {},
   "source": [
    "The method <code>item()</code> returns the value of this tensor as a standard Python number (Only works with one element)"
   ]
  },
  {
   "cell_type": "code",
   "execution_count": 23,
   "id": "f3cec5e4-6a72-42ee-b267-7827ab229878",
   "metadata": {
    "tags": []
   },
   "outputs": [
    {
     "name": "stdout",
     "output_type": "stream",
     "text": [
      "the first item is given by  0 the first tensor value is given by  tensor(0)\n",
      "the second item is given by  1 the second tensor value is given by  tensor(1)\n",
      "the third item is given by  2 the third tensor value is given by  tensor(2)\n"
     ]
    }
   ],
   "source": [
    "print(\"the first item is given by \", this_tensor[0].item(),\"the first tensor value is given by \",this_tensor[0])\n",
    "print(\"the second item is given by \", this_tensor[1].item(),\"the second tensor value is given by \",this_tensor[1])\n",
    "print(\"the third item is given by \", this_tensor[2].item(),\"the third tensor value is given by \",this_tensor[2])"
   ]
  },
  {
   "cell_type": "markdown",
   "id": "b5fd5635-b856-4e6b-8899-a34665712931",
   "metadata": {},
   "source": [
    "The method tolist() is used to return a list"
   ]
  },
  {
   "cell_type": "code",
   "execution_count": 24,
   "id": "980133ed-65b9-42c4-a55c-76f08068de77",
   "metadata": {
    "tags": []
   },
   "outputs": [
    {
     "name": "stdout",
     "output_type": "stream",
     "text": [
      "tensor:  tensor([0, 1, 2, 3]) \n",
      "list: [0, 1, 2, 3]\n"
     ]
    }
   ],
   "source": [
    "torch_to_list = this_tensor.tolist()\n",
    "\n",
    "print(\"tensor: \", this_tensor, \"\\nlist:\", torch_to_list)"
   ]
  },
  {
   "cell_type": "markdown",
   "id": "8a527a95-6aa0-434c-a5ae-229c4eadc2ad",
   "metadata": {},
   "source": [
    "**Practice**"
   ]
  },
  {
   "cell_type": "markdown",
   "id": "b8e35b9c-938f-4125-8c48-18a4fec5ca85",
   "metadata": {},
   "source": [
    "Try to convert <code>your_tensor</code> to a 1x5 tensor"
   ]
  },
  {
   "cell_type": "code",
   "execution_count": 33,
   "id": "c09d42ab-80b9-4736-9a8c-96a44f56f727",
   "metadata": {
    "tags": []
   },
   "outputs": [
    {
     "data": {
      "text/plain": [
       "tensor([1, 2, 3, 4, 5])"
      ]
     },
     "execution_count": 33,
     "metadata": {},
     "output_type": "execute_result"
    }
   ],
   "source": [
    "your_tensor = torch.tensor([1,2,3,4,5])\n",
    "your_tensor"
   ]
  },
  {
   "cell_type": "code",
   "execution_count": 32,
   "id": "b7b66a8f-8e99-439f-8c10-6ae61064d58d",
   "metadata": {
    "tags": []
   },
   "outputs": [
    {
     "data": {
      "text/plain": [
       "tensor([[1, 2, 3, 4, 5]])"
      ]
     },
     "execution_count": 32,
     "metadata": {},
     "output_type": "execute_result"
    }
   ],
   "source": [
    "new_your_tensor = your_tensor.view(1,5)\n",
    "new_your_tensor"
   ]
  },
  {
   "cell_type": "markdown",
   "id": "68d91f84-8e0e-46f8-95a9-ce0b6d906e74",
   "metadata": {},
   "source": [
    "The brackets show the tensor is two dimensional"
   ]
  },
  {
   "cell_type": "markdown",
   "id": "355b7e1f-c0bf-4879-a64a-44fb22dc709d",
   "metadata": {},
   "source": [
    "**Indexing and Slicing**"
   ]
  },
  {
   "cell_type": "code",
   "execution_count": 34,
   "id": "511a23c7-a43a-4019-a798-e7d2f3aff6d0",
   "metadata": {
    "tags": []
   },
   "outputs": [],
   "source": [
    "tensor_sample = torch.tensor([20,1,2,3,4])"
   ]
  },
  {
   "cell_type": "markdown",
   "id": "0d289f36-c7bd-4c2c-8f22-da64239b37d1",
   "metadata": {},
   "source": [
    "Assign the value of index 0 as 100"
   ]
  },
  {
   "cell_type": "code",
   "execution_count": 35,
   "id": "54f2bd8b-0ed1-454a-b713-5356042752cc",
   "metadata": {
    "tags": []
   },
   "outputs": [
    {
     "name": "stdout",
     "output_type": "stream",
     "text": [
      "Modified tensor tensor([100,   1,   2,   3,   4])\n"
     ]
    }
   ],
   "source": [
    "#Change the value on the index 0 to 100\n",
    "\n",
    "tensor_sample[0] = 100\n",
    "print(\"Modified tensor\", tensor_sample)"
   ]
  },
  {
   "cell_type": "code",
   "execution_count": 36,
   "id": "8e2e836e-576a-4342-8cbf-72ba48f38df9",
   "metadata": {
    "tags": []
   },
   "outputs": [
    {
     "name": "stdout",
     "output_type": "stream",
     "text": [
      "Modified tensor: tensor([100,   1,   2,   3,   0])\n"
     ]
    }
   ],
   "source": [
    "#Change the value on index 4 to 0\n",
    "\n",
    "tensor_sample[4] = 0\n",
    "print(\"Modified tensor:\", tensor_sample)"
   ]
  },
  {
   "cell_type": "markdown",
   "id": "ed6efe1a-97e1-449f-b7a1-f457f97c2452",
   "metadata": {},
   "source": [
    "Get the subset of <code>tensor_sample</code>. The subset should contain the values in <code>tensor_sample</code> from index 1 to index 3."
   ]
  },
  {
   "cell_type": "code",
   "execution_count": 37,
   "id": "85a10ad0-9d51-4496-ac7f-f53d0a59d6e3",
   "metadata": {
    "tags": []
   },
   "outputs": [
    {
     "name": "stdout",
     "output_type": "stream",
     "text": [
      "Original:  tensor([100,   1,   2,   3,   0])\n",
      "Subset of Original:  tensor([1, 2, 3])\n"
     ]
    }
   ],
   "source": [
    "#Slice tensor_sample\n",
    "\n",
    "subset_tensor_sample = tensor_sample[1:4]\n",
    "print(\"Original: \", tensor_sample)\n",
    "print(\"Subset of Original: \", subset_tensor_sample)"
   ]
  },
  {
   "cell_type": "markdown",
   "id": "8c12dfef-5910-486e-864b-d6d0a7392b6e",
   "metadata": {},
   "source": [
    "The result only returns indexes 1 through 3"
   ]
  },
  {
   "cell_type": "markdown",
   "id": "08923fb2-9fa7-4c0a-ab35-b175183fadc9",
   "metadata": {},
   "source": [
    "You can also assign new values to the slices"
   ]
  },
  {
   "cell_type": "code",
   "execution_count": 38,
   "id": "ee1c44f9-1bef-44f3-a382-a8c4c992e431",
   "metadata": {
    "tags": []
   },
   "outputs": [
    {
     "name": "stdout",
     "output_type": "stream",
     "text": [
      "Original values of index 3 and 4: tensor([3, 0])\n",
      "Modified tensor: tensor([100,   1,   2, 300, 400])\n"
     ]
    }
   ],
   "source": [
    "#Change values on index 3 and index 4\n",
    "\n",
    "print(\"Original values of index 3 and 4:\", tensor_sample[3:5])\n",
    "tensor_sample[3:5] = torch.tensor([300.0, 400.0])\n",
    "print(\"Modified tensor:\", tensor_sample)"
   ]
  },
  {
   "cell_type": "markdown",
   "id": "cf818966-ebbf-4bb5-8031-6c6aabf37fd1",
   "metadata": {},
   "source": [
    "You can also use a variable to contain the selected indexes and pass that variable to a tensor slice operation as a parameter"
   ]
  },
  {
   "cell_type": "code",
   "execution_count": 39,
   "id": "10dee011-0fff-4b32-ac84-69d333b92d9f",
   "metadata": {
    "tags": []
   },
   "outputs": [
    {
     "name": "stdout",
     "output_type": "stream",
     "text": [
      "Initial tensor_sample: tensor([100,   1,   2, 300, 400])\n",
      "The subset with the values on index 3 and 4: tensor([300, 400])\n"
     ]
    }
   ],
   "source": [
    "#Using variable to contain the selected index, and pass it to slice operation\n",
    "\n",
    "selected_indexes = [3,4]\n",
    "subset_tensor_sample = tensor_sample[selected_indexes]\n",
    "print(\"Initial tensor_sample:\", tensor_sample)\n",
    "print(\"The subset with the values on index 3 and 4:\", subset_tensor_sample)"
   ]
  },
  {
   "cell_type": "markdown",
   "id": "dfbe4e8f-5e3f-4fb2-b4e5-029cb22ffa02",
   "metadata": {},
   "source": [
    "You can also assign one value to the selected indexes by using the variable."
   ]
  },
  {
   "cell_type": "code",
   "execution_count": 40,
   "id": "a691d530-dc5c-41f4-9a54-bf276fb0470c",
   "metadata": {
    "tags": []
   },
   "outputs": [
    {
     "name": "stdout",
     "output_type": "stream",
     "text": [
      "The intial tensor_sample: tensor([100,   1,   2, 300, 400])\n",
      "Modified tensor with one value: tensor([   100, 100000,      2, 100000,    400])\n"
     ]
    }
   ],
   "source": [
    "#Using variable to assign the value to the selected indexes\n",
    "\n",
    "print(\"The intial tensor_sample:\", tensor_sample)\n",
    "selected_indexes = [1,3]\n",
    "tensor_sample[selected_indexes] = 100000\n",
    "print(\"Modified tensor with one value:\", tensor_sample)"
   ]
  },
  {
   "cell_type": "markdown",
   "id": "46ce87d0-6f0b-4f37-b104-ebd7de818b76",
   "metadata": {},
   "source": [
    "Note: You can only use one value for the assignment"
   ]
  },
  {
   "cell_type": "markdown",
   "id": "d8abf374-4166-41cd-937f-58472fcf20bf",
   "metadata": {},
   "source": [
    "**Practice**"
   ]
  },
  {
   "cell_type": "markdown",
   "id": "73e789a4-c53d-44f1-ac3a-09a3aab9ac9b",
   "metadata": {},
   "source": [
    "Change the values on index 3,4,7 of the following tensor to 0"
   ]
  },
  {
   "cell_type": "code",
   "execution_count": 41,
   "id": "148be809-36e8-49da-aa06-85207a75381e",
   "metadata": {
    "tags": []
   },
   "outputs": [],
   "source": [
    "practice_tensor = torch.tensor([2,7,3,4,6,2,3,1,2])"
   ]
  },
  {
   "cell_type": "code",
   "execution_count": 42,
   "id": "a66bc2c6-6904-4a0e-a1a9-ad4e8a5c88bd",
   "metadata": {
    "tags": []
   },
   "outputs": [
    {
     "data": {
      "text/plain": [
       "tensor([2, 7, 3, 0, 0, 2, 3, 0, 2])"
      ]
     },
     "execution_count": 42,
     "metadata": {},
     "output_type": "execute_result"
    }
   ],
   "source": [
    "indexes = [3,4,7]\n",
    "practice_tensor[indexes] = 0\n",
    "practice_tensor"
   ]
  },
  {
   "cell_type": "code",
   "execution_count": null,
   "id": "29bba3fb-fd3c-4f0a-9a20-e50025992f76",
   "metadata": {},
   "outputs": [],
   "source": []
  }
 ],
 "metadata": {
  "kernelspec": {
   "display_name": "Python 3 (ipykernel)",
   "language": "python",
   "name": "python3"
  },
  "language_info": {
   "codemirror_mode": {
    "name": "ipython",
    "version": 3
   },
   "file_extension": ".py",
   "mimetype": "text/x-python",
   "name": "python",
   "nbconvert_exporter": "python",
   "pygments_lexer": "ipython3",
   "version": "3.11.5"
  }
 },
 "nbformat": 4,
 "nbformat_minor": 5
}
