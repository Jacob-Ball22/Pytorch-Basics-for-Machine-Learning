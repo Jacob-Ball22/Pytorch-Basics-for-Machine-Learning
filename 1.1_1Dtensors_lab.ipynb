{
 "cells": [
  {
   "cell_type": "code",
   "execution_count": 2,
   "id": "dd4f3d35-b716-436b-b3f0-fcf9856725c4",
   "metadata": {
    "tags": []
   },
   "outputs": [],
   "source": [
    "import torch\n",
    "import numpy as np\n",
    "import pandas as pd\n",
    "import matplotlib.pyplot as plt\n",
    "%matplotlib inline"
   ]
  },
  {
   "cell_type": "code",
   "execution_count": 3,
   "id": "b58036a1-bccd-4743-b8ec-f55df81e950c",
   "metadata": {
    "tags": []
   },
   "outputs": [
    {
     "data": {
      "text/plain": [
       "'2.1.0'"
      ]
     },
     "execution_count": 3,
     "metadata": {},
     "output_type": "execute_result"
    }
   ],
   "source": [
    "torch.__version__"
   ]
  },
  {
   "cell_type": "markdown",
   "id": "8c48abdc-f82c-4164-821a-ea21b8334cda",
   "metadata": {},
   "source": [
    "Function to plot the vectors"
   ]
  },
  {
   "cell_type": "code",
   "execution_count": 4,
   "id": "e21efd8b-eb2c-48c1-870d-4c2dbe8a1851",
   "metadata": {
    "tags": []
   },
   "outputs": [],
   "source": [
    "#Plot vectors\n",
    "def plotVec(vectors):\n",
    "    ax = plt.axes()\n",
    "    \n",
    "    #For loop to draw the vectors\n",
    "    for vec in vectors:\n",
    "        ax.arrow(0,0 *vec[\"vector\"], head_width = 0.05, color = vec[\"color\"], head_length = 0.1)\n",
    "        plt.text(*(vec[vector] + 0.1), vec[\"name\"])\n",
    "        \n",
    "    plt.ylim(-2,2)\n",
    "    plt.xlim(-2,2)"
   ]
  },
  {
   "cell_type": "markdown",
   "id": "44c4636f-0203-49ee-83d7-9511ce08fee2",
   "metadata": {},
   "source": [
    "**Types and Shapes**"
   ]
  },
  {
   "cell_type": "code",
   "execution_count": 5,
   "id": "36573621-26cf-4bac-8c40-c74fc139ea9b",
   "metadata": {
    "tags": []
   },
   "outputs": [
    {
     "name": "stdout",
     "output_type": "stream",
     "text": [
      "dtype after conversion is:  torch.int64\n",
      "Type after conversion is:  torch.LongTensor\n"
     ]
    }
   ],
   "source": [
    "#Convert integer list to tensor\n",
    "ints_to_tensor = torch.tensor([0,1,2,3,4])\n",
    "print(\"dtype after conversion is: \", ints_to_tensor.dtype)\n",
    "print(\"Type after conversion is: \", ints_to_tensor.type())"
   ]
  },
  {
   "cell_type": "code",
   "execution_count": 6,
   "id": "4567660b-e696-4862-bc63-f6b1f8dec57e",
   "metadata": {
    "tags": []
   },
   "outputs": [
    {
     "data": {
      "text/plain": [
       "torch.Tensor"
      ]
     },
     "execution_count": 6,
     "metadata": {},
     "output_type": "execute_result"
    }
   ],
   "source": [
    "type(ints_to_tensor)"
   ]
  },
  {
   "cell_type": "code",
   "execution_count": 7,
   "id": "b8aad036-54b8-4a69-99b0-7c3829f35e22",
   "metadata": {
    "tags": []
   },
   "outputs": [
    {
     "name": "stdout",
     "output_type": "stream",
     "text": [
      "dtype after conversion is:  torch.float32\n",
      "Type after conversion is:  torch.FloatTensor\n"
     ]
    }
   ],
   "source": [
    "#Convert float list to tensor\n",
    "floats_to_tensor = torch.tensor([0.0,1.0,2.0,3.0,4.0])\n",
    "print(\"dtype after conversion is: \", floats_to_tensor.dtype)\n",
    "print(\"Type after conversion is: \", floats_to_tensor.type())"
   ]
  },
  {
   "cell_type": "code",
   "execution_count": 8,
   "id": "1de61f7b-6da9-46e0-8f86-d24e6ffe349c",
   "metadata": {
    "tags": []
   },
   "outputs": [
    {
     "data": {
      "text/plain": [
       "torch.Tensor"
      ]
     },
     "execution_count": 8,
     "metadata": {},
     "output_type": "execute_result"
    }
   ],
   "source": [
    "type(floats_to_tensor)"
   ]
  },
  {
   "cell_type": "code",
   "execution_count": 9,
   "id": "882e66fd-c581-4692-a873-758440bc5a87",
   "metadata": {
    "tags": []
   },
   "outputs": [
    {
     "name": "stdout",
     "output_type": "stream",
     "text": [
      "The type of the new_float_tensor: torch.FloatTensor\n"
     ]
    }
   ],
   "source": [
    "#Convert an integer list with length 5 to float tensor\n",
    "new_float_tensor = torch.FloatTensor([0,1,2,3,4])\n",
    "new_float_tensor.type()\n",
    "print(\"The type of the new_float_tensor:\", new_float_tensor.type())"
   ]
  },
  {
   "cell_type": "code",
   "execution_count": 10,
   "id": "4073d014-577b-408d-9bf9-6c22c6f61973",
   "metadata": {
    "tags": []
   },
   "outputs": [],
   "source": [
    "new_float_tensor = torch.FloatTensor([0,1,2,3,4])"
   ]
  },
  {
   "cell_type": "code",
   "execution_count": 13,
   "id": "a0d90226-0f3c-47f7-b20f-83c406ccc106",
   "metadata": {
    "tags": []
   },
   "outputs": [
    {
     "name": "stdout",
     "output_type": "stream",
     "text": [
      "The type of the new_float_tensor: torch.FloatTensor\n"
     ]
    }
   ],
   "source": [
    "#Another method to convert the integer list to float tensor\n",
    "old_int_tensor = torch.tensor([0,1,2,3,4])\n",
    "new_float_tensor = old_int_tensor.type(torch.FloatTensor)\n",
    "print(\"The type of the new_float_tensor:\", new_float_tensor.type())"
   ]
  },
  {
   "cell_type": "markdown",
   "id": "173b515b-e97c-4872-97f3-b506fe21968d",
   "metadata": {},
   "source": [
    "tensor_obj.size() finds the size of the tensor_obj. tensor_obj.ndimension() shows the dimension of the tensor object."
   ]
  },
  {
   "cell_type": "code",
   "execution_count": 14,
   "id": "ed96accb-da61-424e-b737-d6b33c9d87d8",
   "metadata": {
    "tags": []
   },
   "outputs": [
    {
     "name": "stdout",
     "output_type": "stream",
     "text": [
      "Size of the new_float_tensor:  torch.Size([5])\n",
      "The dimension of the new_float_tensor:  1\n"
     ]
    }
   ],
   "source": [
    "print(\"Size of the new_float_tensor: \", new_float_tensor.size())\n",
    "print(\"The dimension of the new_float_tensor: \", new_float_tensor.ndimension())"
   ]
  },
  {
   "cell_type": "markdown",
   "id": "d7cee96a-31db-4d2f-988b-d18b8a9740f0",
   "metadata": {},
   "source": [
    "tensor_obj.view(row, column) is used for reshaping a tensor object\n",
    "- When you execute new_float_tensor.view(5,1) the size will be torch.Size([5,1])\n",
    "- Meaning the tensor object has been reshaped from a one-dimensional tensor with 5 elements to a two-dimensional tensor object with 5 rows and 1 column"
   ]
  },
  {
   "cell_type": "code",
   "execution_count": 15,
   "id": "98a05ea7-c62a-43ff-b656-314a77223a2f",
   "metadata": {
    "tags": []
   },
   "outputs": [
    {
     "name": "stdout",
     "output_type": "stream",
     "text": [
      "Original Size:  tensor([0., 1., 2., 3., 4.])\n",
      "Size after view method tensor([[0.],\n",
      "        [1.],\n",
      "        [2.],\n",
      "        [3.],\n",
      "        [4.]])\n"
     ]
    }
   ],
   "source": [
    "twoD_float_tensor = new_float_tensor.view(5,1)\n",
    "print(\"Original Size: \", new_float_tensor)\n",
    "print(\"Size after view method\", twoD_float_tensor)"
   ]
  },
  {
   "cell_type": "markdown",
   "id": "7435fffe-28a9-4f1b-b441-981516ccda81",
   "metadata": {},
   "source": [
    "Note: The number of elements in a tensor must remain constant after applying view"
   ]
  },
  {
   "cell_type": "markdown",
   "id": "5fc87753-fa1f-4856-bf08-09458d3638db",
   "metadata": {},
   "source": [
    "Tensors with a dynamic size can be reshaped using -1"
   ]
  },
  {
   "cell_type": "code",
   "execution_count": 16,
   "id": "991f28d0-afd5-45ed-a0db-6b89136f9c5f",
   "metadata": {
    "tags": []
   },
   "outputs": [
    {
     "name": "stdout",
     "output_type": "stream",
     "text": [
      "Original Size:  tensor([0., 1., 2., 3., 4.])\n",
      "Size after view method tensor([[0.],\n",
      "        [1.],\n",
      "        [2.],\n",
      "        [3.],\n",
      "        [4.]])\n"
     ]
    }
   ],
   "source": [
    "#Introduce the use of -1 in tensor_obj.view(row,column) method\n",
    "twoD_float_tensor = new_float_tensor.view(-1,1)\n",
    "print(\"Original Size: \", new_float_tensor)\n",
    "print(\"Size after view method\", twoD_float_tensor)"
   ]
  },
  {
   "cell_type": "markdown",
   "id": "729d9c3b-b1b6-48c6-b696-d05916b64f5e",
   "metadata": {},
   "source": [
    "-1 can represent any size. But, it can only be set for one of the values"
   ]
  },
  {
   "cell_type": "code",
   "execution_count": 17,
   "id": "bc4d8fda-fc40-455d-a2d6-4e3d8ba82d30",
   "metadata": {
    "tags": []
   },
   "outputs": [
    {
     "name": "stdout",
     "output_type": "stream",
     "text": [
      "Dtype of new tensor:  torch.float64\n",
      "The type of new tensor:  torch.DoubleTensor\n"
     ]
    }
   ],
   "source": [
    "#Convert a numpy array to a tensor\n",
    "numpy_array = np.array([0.0,1.0,2.0,3.0,4.0])\n",
    "new_tensor = torch.from_numpy(numpy_array)\n",
    "\n",
    "print(\"Dtype of new tensor: \", new_tensor.dtype)\n",
    "print(\"The type of new tensor: \", new_tensor.type())"
   ]
  },
  {
   "cell_type": "code",
   "execution_count": null,
   "id": "9071d80c-8e87-4bc2-8071-35ab4099b122",
   "metadata": {},
   "outputs": [],
   "source": []
  }
 ],
 "metadata": {
  "kernelspec": {
   "display_name": "Python 3 (ipykernel)",
   "language": "python",
   "name": "python3"
  },
  "language_info": {
   "codemirror_mode": {
    "name": "ipython",
    "version": 3
   },
   "file_extension": ".py",
   "mimetype": "text/x-python",
   "name": "python",
   "nbconvert_exporter": "python",
   "pygments_lexer": "ipython3",
   "version": "3.11.5"
  }
 },
 "nbformat": 4,
 "nbformat_minor": 5
}
